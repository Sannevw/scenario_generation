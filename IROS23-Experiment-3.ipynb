{
 "cells": [
  {
   "cell_type": "markdown",
   "id": "56d39a45",
   "metadata": {},
   "source": [
    "# Experiment 3\n",
    "\n",
    "This notebook allows the generation and rendering of scenarios for experiment 3 of the IROS'23 paper _''Generating Scenarios from High-Level Specifications for Object Rearrangement Tasks''_. In this experiment, we generate scenarios for a task with 3 to 7 objects. The specification encodes that the objects are either sorted from left to right, right to left, below to above, or above to below (see paper for more details). When you run the first cell, you can choose how many objects you want to generate: 3, 5 or 7. Moreover, you can activate or deactivate (default: activate) the rendering in pybullet. Please reload the kernel when changing settings to properly setup the models."
   ]
  },
  {
   "cell_type": "code",
   "execution_count": null,
   "id": "eb0d23a9",
   "metadata": {
    "scrolled": true
   },
   "outputs": [],
   "source": [
    "from gigalib.experiments import *\n",
    "\n",
    "e = Experiment3()\n",
    "e.init()\n"
   ]
  },
  {
   "cell_type": "markdown",
   "id": "6dc43336",
   "metadata": {},
   "source": [
    "# Generating scenarios\n",
    "\n",
    "In this cell, you can use the slider to choose a desired satisfaction value. The AAE will use this value to generate a scenario. The generated scenario will be plotted in matplotlib (the object poses) and rendered in pybullet (this cell loads the rendering setting from the previous cell). For certain satisfaction values, the generative model may not be able to generate a satisfying scenario. Please try again with another satisfaction value."
   ]
  },
  {
   "cell_type": "code",
   "execution_count": null,
   "id": "36feda4f",
   "metadata": {
    "scrolled": false
   },
   "outputs": [],
   "source": [
    "e.load_model()\n",
    "e.interactive()"
   ]
  }
 ],
 "metadata": {
  "kernelspec": {
   "display_name": "Python 3 (ipykernel)",
   "language": "python",
   "name": "python3"
  },
  "language_info": {
   "codemirror_mode": {
    "name": "ipython",
    "version": 3
   },
   "file_extension": ".py",
   "mimetype": "text/x-python",
   "name": "python",
   "nbconvert_exporter": "python",
   "pygments_lexer": "ipython3",
   "version": "3.8.17"
  }
 },
 "nbformat": 4,
 "nbformat_minor": 5
}

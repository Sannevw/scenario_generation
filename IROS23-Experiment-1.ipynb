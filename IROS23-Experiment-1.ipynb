{
 "cells": [
  {
   "cell_type": "markdown",
   "id": "340c8b1a",
   "metadata": {},
   "source": [
    "# Experiment 1\n",
    "\n",
    "This notebook allows the generation and rendering of scenarios for experiment 1 of the IROS'23 paper _''Generating Scenarios from High-Level Specifications for Object Rearrangement Tasks''_. In this experiment, we generate scenarios for a task with two objects: a plate and a mug. The task specification encodes that the mug needs to be above of and left of the plate. The safety specification encodes that the mug and the plate need to have at least a distance of 0.25 between each other. When you run the first cell, you can choose which specification you want to control. You have the option to control 1) the task satisfaction value (while safety is tried to be satisfied), 2) the safety satisfaction value (while task is tried to be satisfied), and 3) task and safety. Moreover, you can activate or deactivate (default: activate) the rendering in pybullet. Please reload the kernel when changing settings to properly setup the models."
   ]
  },
  {
   "cell_type": "code",
   "execution_count": null,
   "id": "eb0d23a9",
   "metadata": {
    "scrolled": true
   },
   "outputs": [],
   "source": [
    "from gigalib.experiments import *\n",
    "\n",
    "e = Experiment1()\n",
    "e.init()\n"
   ]
  },
  {
   "cell_type": "markdown",
   "id": "51a853c8",
   "metadata": {},
   "source": [
    "# Generating scenarios\n",
    "\n",
    "In this cell, you can use the slider to choose a desired satisfaction value(s). If you chose to control both values, you will see two sliders. The AAE will use these values to generate a scenario. The generated scenario will be plotted in matplotlib (the object poses) and rendered in pybullet (this cell loads the rendering setting from the previous cell). For certain satisfaction values, the generative model may not be able to generate a satisfying scenario. In particular, when controlling both values, certain value pairs will lead to infeasible scenarios. For instance, when wanting high task satisfaction and low safety satisfaction, the objects need to be both far and close to each other, which is infeasible. Please try again with another satisfaction value in such cases."
   ]
  },
  {
   "cell_type": "code",
   "execution_count": null,
   "id": "332018c8",
   "metadata": {
    "scrolled": false
   },
   "outputs": [],
   "source": [
    "e.load_model()\n",
    "e.interactive()"
   ]
  }
 ],
 "metadata": {
  "kernelspec": {
   "display_name": "Python 3 (ipykernel)",
   "language": "python",
   "name": "python3"
  },
  "language_info": {
   "codemirror_mode": {
    "name": "ipython",
    "version": 3
   },
   "file_extension": ".py",
   "mimetype": "text/x-python",
   "name": "python",
   "nbconvert_exporter": "python",
   "pygments_lexer": "ipython3",
   "version": "3.8.17"
  }
 },
 "nbformat": 4,
 "nbformat_minor": 5
}

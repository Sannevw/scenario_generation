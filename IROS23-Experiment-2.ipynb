{
 "cells": [
  {
   "cell_type": "markdown",
   "id": "1c2d04a5",
   "metadata": {},
   "source": [
    "# Experiment 2\n",
    "\n",
    "This notebook allows the generation and rendering of scenarios for experiment 2 of the IROS'23 paper _''Generating Scenarios from High-Level Specifications for Object Rearrangement Tasks''_. In this experiment, we generate scenarios for a table setting task with four objects: a plate, a mug, a knife and a crackerbox. The specification encodes that the plate needs to be on the placemat, the mug close to and above the placemat, the knife close to and right of the placemat with the blade pointing north, and the crackerbox left and above of the plate. When you run the first cell, you can activate or deactivate (default: activate) the rendering in pybullet. Please reload the kernel when changing settings to properly setup the models."
   ]
  },
  {
   "cell_type": "code",
   "execution_count": null,
   "id": "eb0d23a9",
   "metadata": {
    "scrolled": true
   },
   "outputs": [],
   "source": [
    "from gigalib.experiments import *\n",
    "\n",
    "e = Experiment2()\n",
    "e.init()\n"
   ]
  },
  {
   "cell_type": "markdown",
   "id": "61291ed2",
   "metadata": {},
   "source": [
    "# Generating scenarios\n",
    "\n",
    "In this cell, you can use the slider to choose a desired satisfaction value. The AAE will use this value to generate a scenario. The generated scenario will be plotted in matplotlib (the object poses) and rendered in pybullet (this cell loads the rendering setting from the previous cell). For certain satisfaction values, the generative model may not be able to generate a satisfying scenario. Please try again with another satisfaction value."
   ]
  },
  {
   "cell_type": "code",
   "execution_count": null,
   "id": "332018c8",
   "metadata": {
    "scrolled": false
   },
   "outputs": [],
   "source": [
    "e.load_model()\n",
    "e.interactive()"
   ]
  },
  {
   "cell_type": "code",
   "execution_count": null,
   "id": "4456d353",
   "metadata": {},
   "outputs": [],
   "source": []
  }
 ],
 "metadata": {
  "kernelspec": {
   "display_name": "Python 3 (ipykernel)",
   "language": "python",
   "name": "python3"
  },
  "language_info": {
   "codemirror_mode": {
    "name": "ipython",
    "version": 3
   },
   "file_extension": ".py",
   "mimetype": "text/x-python",
   "name": "python",
   "nbconvert_exporter": "python",
   "pygments_lexer": "ipython3",
   "version": "3.8.17"
  }
 },
 "nbformat": 4,
 "nbformat_minor": 5
}
